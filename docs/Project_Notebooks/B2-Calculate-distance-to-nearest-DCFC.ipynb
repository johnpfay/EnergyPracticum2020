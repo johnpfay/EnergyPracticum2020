{
 "cells": [
  {
   "cell_type": "markdown",
   "metadata": {},
   "source": [
    "## Calculate Euclidean distance to nearest charger \n",
    "In this notebook we compute the distance between each candidate site (Exit dataset from MJBA) and the nearest existing DCFC charger (from NREL). We do this by using the Shapely's `nearest_point()` function, which identifies the point in a multipoint geometry that is nearest a provided point, and then use the `distance()` function to compute the Euclidean distance between the two. \n",
    "\n",
    "This approach uses the procesees outlined here:<br>\n",
    "https://automating-gis-processes.github.io/2017/lessons/L3/nearest-neighbour.html"
   ]
  },
  {
   "cell_type": "code",
   "execution_count": null,
   "metadata": {},
   "outputs": [],
   "source": [
    "#Import packages\n",
    "import pandas as pd\n",
    "import geopandas as gpd\n",
    "from shapely.geometry import Point\n",
    "from shapely.ops import nearest_points"
   ]
  },
  {
   "cell_type": "code",
   "execution_count": null,
   "metadata": {},
   "outputs": [],
   "source": [
    "#Import exit features\n",
    "exits_gdf = gpd.read_file('../Data/exits_flood.shp')\n",
    "exits_gdf.head()"
   ]
  },
  {
   "cell_type": "markdown",
   "metadata": {},
   "source": [
    "#### Converting a CSV file (with coordinates) to a geodataframe\n",
    "The NREL data are stored as a CSV file. We need to get this into a geodataframe to facilitate analysis.\n",
    "\n",
    "* To do this, we first import the CSV into a Pandas dataframe as this has all the data we need to construct the geodataframe. "
   ]
  },
  {
   "cell_type": "code",
   "execution_count": null,
   "metadata": {},
   "outputs": [],
   "source": [
    "#Import DCFC csv as a Pandas dataframe, importing only the longitude and latitude columns\n",
    "dcfc_df = pd.read_csv('../Data/NREL/DCFC.csv',usecols=['longitude','latitude'])\n",
    "dcfc_df.head()"
   ]
  },
  {
   "cell_type": "markdown",
   "metadata": {},
   "source": [
    "* Next, we create a list of shapely \"Point\" objects from lists of longitude and latitude pairs, constructed by \"zip\"ing the two lists together."
   ]
  },
  {
   "cell_type": "code",
   "execution_count": null,
   "metadata": {},
   "outputs": [],
   "source": [
    "#Construct points from long/lat pairs\n",
    "geom = [Point(xy) for xy in zip(dcfc_df['longitude'],dcfc_df['latitude'])]\n",
    "#Show the first 5 records\n",
    "geom[:5]"
   ]
  },
  {
   "cell_type": "markdown",
   "metadata": {},
   "source": [
    "* And finally, we create a Geopandas geodataframe by specifying the Pandas dataframe, the list of geometries, and a coordinate reference system to use. (These are lat/long data so we use WGS84, i.e. epsg #4326.)"
   ]
  },
  {
   "cell_type": "code",
   "execution_count": null,
   "metadata": {},
   "outputs": [],
   "source": [
    "#Convert to a spatial dataframe\n",
    "dcfc_gdf = gpd.GeoDataFrame(dcfc_df,geometry=geom,crs=4326)\n",
    "#Show the results\n",
    "dcfc_gdf.plot();"
   ]
  },
  {
   "cell_type": "markdown",
   "metadata": {},
   "source": [
    "#### Coordinate reference systems\n",
    "Because we are going to measure distances, we need to convert our two geodataframes, which are using geographic coordinate reference systems, to a projected crs. We'll use UTM Zone 17N (epsg=`32617`), employing the `to_crs()` function to tranform our datsets."
   ]
  },
  {
   "cell_type": "code",
   "execution_count": null,
   "metadata": {},
   "outputs": [],
   "source": [
    "#Reveal crfs of each\n",
    "print(exits_gdf.crs)\n",
    "print(dcfc_gdf.crs)"
   ]
  },
  {
   "cell_type": "code",
   "execution_count": null,
   "metadata": {},
   "outputs": [],
   "source": [
    "#Transform to a projected crf\n",
    "exits_gdf = exits_gdf.to_crs(32617)\n",
    "dcfc_gdf = dcfc_gdf.to_crs(32617)"
   ]
  },
  {
   "cell_type": "code",
   "execution_count": null,
   "metadata": {},
   "outputs": [],
   "source": [
    "#Reveal crfs of each: they should be different\n",
    "print(exits_gdf.crs)\n",
    "print(dcfc_gdf.crs)"
   ]
  },
  {
   "cell_type": "markdown",
   "metadata": {},
   "source": [
    "#### Nearest point analysis\n",
    "* To compute the nearest DCFC to each exit, we must first collapse our individual DCFC point locations into a single *mulitpoint* geometry object. "
   ]
  },
  {
   "cell_type": "code",
   "execution_count": null,
   "metadata": {},
   "outputs": [],
   "source": [
    "#Collapse the dcfc points into one multipoint object\n",
    "mp_dcfc = dcfc_gdf['geometry'].unary_union"
   ]
  },
  {
   "cell_type": "markdown",
   "metadata": {},
   "source": [
    "* Before tackling all Exit points, let's examine the workflow for a single point."
   ]
  },
  {
   "cell_type": "code",
   "execution_count": null,
   "metadata": {},
   "outputs": [],
   "source": [
    "#Get the first exit point\n",
    "thePoint = exits_gdf.at[0,'geometry']"
   ]
  },
  {
   "cell_type": "markdown",
   "metadata": {},
   "source": [
    "* The `nearest_points()` function returns a pair of points, with the first point being the source point, and the second being the nearest point in the supplied multipoint geometry.<br><br>\n",
    "In the statement below, we save the two outputs into separate objects"
   ]
  },
  {
   "cell_type": "code",
   "execution_count": null,
   "metadata": {},
   "outputs": [],
   "source": [
    "#Apply the nearest_points function\n",
    "from_pt, to_pt = nearest_points(thePoint,mp_dcfc)"
   ]
  },
  {
   "cell_type": "markdown",
   "metadata": {},
   "source": [
    "* Now we can easily compute the distance between the two points using the `distance()` function..."
   ]
  },
  {
   "cell_type": "code",
   "execution_count": null,
   "metadata": {},
   "outputs": [],
   "source": [
    "#Compute the distance between the points\n",
    "distance = from_pt.distance(to_pt)\n",
    "distance"
   ]
  },
  {
   "cell_type": "markdown",
   "metadata": {},
   "source": [
    "→ The first exit is 165800 m from the nearest charger (straight line distance). \n",
    "\n",
    "Now let's put this into production mode and compute nearest distances from all points. We'll do this by constructing a Python function and then applying that function to all points. "
   ]
  },
  {
   "cell_type": "code",
   "execution_count": null,
   "metadata": {},
   "outputs": [],
   "source": [
    "#Put it all together in a function\n",
    "def distance_to_dcfc(from_point,to_points):\n",
    "    distance=from_point.distance(nearest_points(from_point,to_points)[1])\n",
    "    #Convert to miles\n",
    "    return int(distance/1609.34)"
   ]
  },
  {
   "cell_type": "code",
   "execution_count": null,
   "metadata": {},
   "outputs": [],
   "source": [
    "#Test it\n",
    "distance_to_dcfc(thePoint,mp_dcfc)"
   ]
  },
  {
   "cell_type": "code",
   "execution_count": null,
   "metadata": {},
   "outputs": [],
   "source": [
    "#Apply it to all exit features\n",
    "exits_gdf['Dist_to_DCFC']=exits_gdf['geometry'].apply(lambda x: distance_to_dcfc(x,mp_dcfc))\n",
    "exits_gdf.head()"
   ]
  },
  {
   "cell_type": "code",
   "execution_count": null,
   "metadata": {},
   "outputs": [],
   "source": [
    "#Save the output to a csv file\n",
    "exits_gdf.to_file('../Data/Exits_distance_to_DCFC.shp')"
   ]
  }
 ],
 "metadata": {
  "kernelspec": {
   "display_name": "Python 3",
   "language": "python",
   "name": "python3"
  },
  "language_info": {
   "codemirror_mode": {
    "name": "ipython",
    "version": 3
   },
   "file_extension": ".py",
   "mimetype": "text/x-python",
   "name": "python",
   "nbconvert_exporter": "python",
   "pygments_lexer": "ipython3",
   "version": "3.7.3"
  }
 },
 "nbformat": 4,
 "nbformat_minor": 2
}
