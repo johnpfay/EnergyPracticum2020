{
 "cells": [
  {
   "cell_type": "markdown",
   "metadata": {},
   "source": [
    "## Extract flood zone class for each candidate site\n",
    "Here we want to identify the flood classification for each of our candidate sites. To do this, we need flood hazard data, which ESRI provides as a [on-line Imagery Layer](https://www.arcgis.com/home/item.html?id=11955f1b47ec41a3af86650824e0c634). \n",
    "\n",
    "We've not worked with imagery layers before. These are *raster* datasets, meaning the data are represented not as points, lines, polygons, but as grid of regularly spaced pixel values. So, our task is to determine the value of the pixel located at each exit. Because the image layer lives on-line, we'll use the ArcGIS Python API package (instead of GeoPandas).  "
   ]
  },
  {
   "cell_type": "code",
   "execution_count": null,
   "metadata": {},
   "outputs": [],
   "source": [
    "#Import the necessary packages and components \n",
    "from arcgis import GIS\n",
    "from arcgis.features import FeatureLayer, GeoAccessor"
   ]
  },
  {
   "cell_type": "markdown",
   "metadata": {},
   "source": [
    "There is one \"catch\" in using the Flood Risk layer mentioned above: it is \"subscriber content\" meaning, we need to show that we have an official ArcGIS Online account. In previous notebooks, we've created our link to ArcGIS online with the simple `gis = GIS()` command. However, if we supply that command with the web address of our AGOL portal and our user name, we'll **authenticate** our \"gis\" object, thus allowing us access to susbcriber content.\n",
    "\n",
    "Modify the command below to use your own log in (e.g. change `jpfay_790` to use your own NetID). On running the code cell, you will be promted for your password..."
   ]
  },
  {
   "cell_type": "code",
   "execution_count": null,
   "metadata": {},
   "outputs": [],
   "source": [
    "#Create the connection to AGOL\n",
    "gis = GIS('https://NSOE.maps.arcgis.com','jpfay_790')\n",
    "print(\"Logged in as: \" + gis.properties.user.username)"
   ]
  },
  {
   "cell_type": "markdown",
   "metadata": {},
   "source": [
    "Next we have to bring the Flood Hazard image layer into our coding environment. Starting from scratch here would be the steps:\n",
    "* Open up a generic ArcGIS Online page: https://arcgis.com\n",
    "* Search for the data you want, i.e. enter `USA Flood Hazard Areas` in the search area.\n",
    " * You can filter the results to show just **Layers**, then **Imagery Layers**...\n",
    "* Eventually you should find the resource we want:<br>https://www.arcgis.com/home/item.html?id=11955f1b47ec41a3af86650824e0c634\n",
    "* Note the URL of the resource: it contains the resource's unique ID: `11955f1b47ec41a3af86650824e0c634`\n",
    "* Use that ID to access the data via the `gis.content.get()` command."
   ]
  },
  {
   "cell_type": "code",
   "execution_count": null,
   "metadata": {},
   "outputs": [],
   "source": [
    "#Get the flood hazard image layer service\n",
    "flood_layer_service = gis.content.get('11955f1b47ec41a3af86650824e0c634')\n",
    "flood_layer_service.type"
   ]
  },
  {
   "cell_type": "markdown",
   "metadata": {},
   "source": [
    "The Image Service contains one or more image layers. It's these image layers that contain the actual data we want. So let's examine what image layers are hosted in this image service and then grab the one we want."
   ]
  },
  {
   "cell_type": "code",
   "execution_count": null,
   "metadata": {},
   "outputs": [],
   "source": [
    "#Reveal the image layers in the image service\n",
    "flood_layer_service.layers"
   ]
  },
  {
   "cell_type": "markdown",
   "metadata": {},
   "source": [
    "The result of the above is a list with just one image layer object. Let's extract that out to its own object."
   ]
  },
  {
   "cell_type": "code",
   "execution_count": null,
   "metadata": {},
   "outputs": [],
   "source": [
    "#Extract the one (and only) image layer from the service\n",
    "flood_layer = flood_layer_service.layers[0]"
   ]
  },
  {
   "cell_type": "code",
   "execution_count": null,
   "metadata": {},
   "outputs": [],
   "source": [
    "#Quick preview\n",
    "flood_layer"
   ]
  },
  {
   "cell_type": "markdown",
   "metadata": {},
   "source": [
    "Ok, so now we have access to our flood data. The next step is to pull in the MJB&A exits data..."
   ]
  },
  {
   "cell_type": "code",
   "execution_count": null,
   "metadata": {},
   "outputs": [],
   "source": [
    "#Import the exit locations\n",
    "theExits = GeoAccessor.from_featureclass('../Data/MJBA/Exits.shp')\n",
    "type(theExits)"
   ]
  },
  {
   "cell_type": "markdown",
   "metadata": {},
   "source": [
    "The remainder of the analysis involves using the `identify()` function of the image layer ([help](https://developers.arcgis.com/python/api-reference/arcgis.raster.toc.html#arcgis.raster.ImageryLayer.identify)). Briefly, this function identifies the pixel value of a raster layer at the location of a provided point. \n",
    "\n",
    "Before applying this function for all points, let's examine how this works for a single point."
   ]
  },
  {
   "cell_type": "code",
   "execution_count": null,
   "metadata": {},
   "outputs": [],
   "source": [
    "#Extract the first point from our exits spatial dataframe\n",
    "thePoint = theExits.loc[0,'SHAPE']"
   ]
  },
  {
   "cell_type": "code",
   "execution_count": null,
   "metadata": {},
   "outputs": [],
   "source": [
    "#Identify the pixel value at this point location\n",
    "theResult = flood_layer.identify(thePoint,return_catalog_items=False)\n",
    "theResult"
   ]
  },
  {
   "cell_type": "markdown",
   "metadata": {},
   "source": [
    "We see the tool returns a dictionary, with the value we want associated with the `value` key. Let's extract that value to its own object."
   ]
  },
  {
   "cell_type": "code",
   "execution_count": null,
   "metadata": {},
   "outputs": [],
   "source": [
    "#Extract the value to its own object\n",
    "theValue = theResult['value']"
   ]
  },
  {
   "cell_type": "markdown",
   "metadata": {},
   "source": [
    "So, we see that for the first point in our Exits dataset, the \"value\" is `8`. What does **8** mean? To answer that, we'll have to dig into the attribute table of the imagery layer dataset. \n",
    "\n",
    "We do this with the [attribute_table()]() function, which returns a dictionary of attributes for the imagery layer. Within this dictionary is an item called `features` which itself returns a list of the different raster values each pixel can have. "
   ]
  },
  {
   "cell_type": "code",
   "execution_count": null,
   "metadata": {
    "scrolled": true
   },
   "outputs": [],
   "source": [
    "#Get a list of the raster feature attributes in the imagery layer\n",
    "theAttributes = flood_layer.attribute_table()['features']\n",
    "len(theAttributes)"
   ]
  },
  {
   "cell_type": "code",
   "execution_count": null,
   "metadata": {},
   "outputs": [],
   "source": [
    "#View the first of these \"attributes\"\n",
    "theAttributes[0]"
   ]
  },
  {
   "cell_type": "markdown",
   "metadata": {},
   "source": [
    "We see that each item in `theAttributes` is a Python dictionary, and the value we want in these dictionaries corresponds, in our case, to the `ClassName` key. So, we want to generate a list of all the ClassName values..."
   ]
  },
  {
   "cell_type": "code",
   "execution_count": null,
   "metadata": {},
   "outputs": [],
   "source": [
    "#Create an empty list to hold the class values\n",
    "classNames = []\n",
    "#Iterate through all the Attribute values, extract the ClassValue, and add to the list\n",
    "for theAttribute in theAttributes:\n",
    "    className = theAttribute['attributes']['ClassName']\n",
    "    classNames.append(className)\n",
    "classNames"
   ]
  },
  {
   "cell_type": "markdown",
   "metadata": {},
   "source": [
    "→ Something called Python list comprehension allows us to do this much more efficiently:"
   ]
  },
  {
   "cell_type": "code",
   "execution_count": null,
   "metadata": {},
   "outputs": [],
   "source": [
    "classNames = [theAttribute['attributes']['ClassName'] for theAttribute in theAttributes]\n",
    "classNames"
   ]
  },
  {
   "cell_type": "markdown",
   "metadata": {},
   "source": [
    "So, we see that out value of **8** corresponds to the 8th item in the list. To view this programmatically, we need to convert our `theValue` to an integer and subtract 1 because Python list indices start at zero. "
   ]
  },
  {
   "cell_type": "code",
   "execution_count": null,
   "metadata": {},
   "outputs": [],
   "source": [
    "#Reveal the actual class value associated with our point\n",
    "classNames[int(theValue) - 1]"
   ]
  },
  {
   "cell_type": "markdown",
   "metadata": {},
   "source": [
    "Our first point falls in an \"`Area of Minimal Flood Hazard`\"!"
   ]
  },
  {
   "cell_type": "markdown",
   "metadata": {},
   "source": [
    "Putting all this together, we can define a Python function that returns the flood class value for a supplied point:"
   ]
  },
  {
   "cell_type": "code",
   "execution_count": null,
   "metadata": {},
   "outputs": [],
   "source": [
    "def getFloodClass(thePoint):\n",
    "    return classNames[int(flood_layer.identify(thePoint)['value'])-1]"
   ]
  },
  {
   "cell_type": "markdown",
   "metadata": {},
   "source": [
    "And then we can apply this function to all items in the \"SHAPE\" field of our spatial dataframe (this should take a few moments as it's pinging ESRIs server for each exit):"
   ]
  },
  {
   "cell_type": "code",
   "execution_count": null,
   "metadata": {},
   "outputs": [],
   "source": [
    "#Apply the \"getFloodClass()\" function to each point\n",
    "theExits['Flood_Zone'] = theExits['SHAPE'].apply(lambda x: getFloodClass(x))"
   ]
  },
  {
   "cell_type": "code",
   "execution_count": null,
   "metadata": {},
   "outputs": [],
   "source": [
    "#Have a look at our result\n",
    "theExits.head()"
   ]
  },
  {
   "cell_type": "markdown",
   "metadata": {},
   "source": [
    "Finally, let's save our output as a CSV and a Shapefile..."
   ]
  },
  {
   "cell_type": "code",
   "execution_count": null,
   "metadata": {},
   "outputs": [],
   "source": [
    "#Save our modified dataframe to a csv\n",
    "theExits.to_csv('../Data/exits_with_flood.csv')"
   ]
  },
  {
   "cell_type": "code",
   "execution_count": null,
   "metadata": {},
   "outputs": [],
   "source": [
    "#Save out modified dataframe to a shapefile\n",
    "theExits.spatial.to_featureclass('../Data/exits_flood.shp')"
   ]
  }
 ],
 "metadata": {
  "kernelspec": {
   "display_name": "Python 3",
   "language": "python",
   "name": "python3"
  },
  "language_info": {
   "codemirror_mode": {
    "name": "ipython",
    "version": 3
   },
   "file_extension": ".py",
   "mimetype": "text/x-python",
   "name": "python",
   "nbconvert_exporter": "python",
   "pygments_lexer": "ipython3",
   "version": "3.7.3"
  }
 },
 "nbformat": 4,
 "nbformat_minor": 2
}
