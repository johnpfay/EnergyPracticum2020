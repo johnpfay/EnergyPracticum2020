{
 "cells": [
  {
   "cell_type": "code",
   "execution_count": 91,
   "metadata": {},
   "outputs": [],
   "source": [
    "import os\n",
    "import pandas as pd\n",
    "from arcgis import GIS\n",
    "from arcgis.features import FeatureLayer\n",
    "gis = GIS('pro')"
   ]
  },
  {
   "cell_type": "code",
   "execution_count": 12,
   "metadata": {},
   "outputs": [
    {
     "data": {
      "text/plain": [
       "'Web Map'"
      ]
     },
     "execution_count": 12,
     "metadata": {},
     "output_type": "execute_result"
    }
   ],
   "source": [
    "theApp = gis.content.get('06a73cb31d014f4f8270a6c74a576fc4')\n",
    "theApp = gis.content.get('0b673914d6b34d32928acd16dab41570')\n",
    "theApp.type"
   ]
  },
  {
   "cell_type": "code",
   "execution_count": 16,
   "metadata": {},
   "outputs": [],
   "source": [
    "theData = theApp.get_data()"
   ]
  },
  {
   "cell_type": "code",
   "execution_count": 19,
   "metadata": {},
   "outputs": [],
   "source": [
    "theLayers = theData['operationalLayers']"
   ]
  },
  {
   "cell_type": "code",
   "execution_count": 23,
   "metadata": {},
   "outputs": [
    {
     "data": {
      "text/plain": [
       "24"
      ]
     },
     "execution_count": 23,
     "metadata": {},
     "output_type": "execute_result"
    }
   ],
   "source": [
    "len(theLayers)"
   ]
  },
  {
   "cell_type": "code",
   "execution_count": 25,
   "metadata": {},
   "outputs": [
    {
     "data": {
      "text/plain": [
       "{'id': 'VectorTile_9347',\n",
       " 'type': 'VectorTileLayer',\n",
       " 'layerType': 'VectorTileLayer',\n",
       " 'title': 'Counties',\n",
       " 'styleUrl': 'https://tiles.arcgis.com/tiles/fqNd6NEGNf5qzQdv/arcgis/rest/services/TCI_NC_counties/VectorTileServer/resources/styles/root.json',\n",
       " 'itemId': 'a056f519b02547838489c0112f1d6378',\n",
       " 'visibility': True,\n",
       " 'opacity': 1}"
      ]
     },
     "execution_count": 25,
     "metadata": {},
     "output_type": "execute_result"
    }
   ],
   "source": [
    "theLayers[0]"
   ]
  },
  {
   "cell_type": "code",
   "execution_count": 48,
   "metadata": {},
   "outputs": [],
   "source": [
    "items = [theLayer for theLayer in theLayers if theLayer['layerType'] == 'ArcGISFeatureLayer']"
   ]
  },
  {
   "cell_type": "code",
   "execution_count": null,
   "metadata": {},
   "outputs": [],
   "source": [
    "item"
   ]
  },
  {
   "cell_type": "code",
   "execution_count": 127,
   "metadata": {},
   "outputs": [
    {
     "name": "stdout",
     "output_type": "stream",
     "text": [
      "ILIT_v3_service_territory_TCI_intersect_parent_merge_2218!!\n",
      "TCI_states_name_only_3189!!\n",
      "ILIT_v3_1_corridor_data_2019_12_05_1521!!\n",
      "ILIT_v3_county_data_2019_10_17_4838!!\n",
      "POI_1mi_ILIT_v3_1_2019_12_09_5358!!\n",
      "ILIT_v3_1_exit_data_2019_12_10_8640!!\n",
      "ILIT_v3_1_exit_data_2019_12_10_8640_6744!!\n",
      "All_exits_Total_Region_All_exits_All_DCFC_Peak_factor_Through_Traffic_12_10_2019_155726_5968!!\n",
      "All_exits_Total_Region_All_exits_All_DCFC_Peak_traffic_Through_Traffic_12_10_2019_4026!!\n",
      "All_exits_Total_Region_All_exits_All_DCFC_AADT_Resident_Use_12_10_2019_160836_8614!!\n",
      "All_exits_Total_Region_All_exits_All_DCFC_AADT_Traveler_Use_12_10_2019_155505_2194!!\n",
      "All_exits_Total_Region_All_exits_All_DCFC_AADT_High_Traffic_Gaps_12_10_2019_155422_2311!!\n",
      "All_exits_Total_Region_All_exits_All_DCFC_AADT_Fill_Gaps_12_10_2019_155346_9457!!\n",
      "All_exits_Total_Region_All_exits_All_DCFC_AADT_Through_Traffic_12_10_2019_155246_3442!!\n",
      "DCFC_nonTesla_ILIT_TCI_outscope_2019_12_05_5051!!\n",
      "DCFC_nonTesla_ILIT_outsideTCI_2019_12_05_2374!!\n",
      "DCFC_Tesla_ILIT_TCI_region_2019_12_05_621: f s c!\n",
      "DCFC_nonTesla_ILIT_TCI_region_2019_12_09_9661_269: f s c!\n",
      "DCFC_nonTesla_ILIT_TCI_region_2019_12_09_9661: f s c!\n"
     ]
    }
   ],
   "source": [
    "for item in items:\n",
    "    itemName = item['id']\n",
    "    outputName = './Data/{}.shp'.format(itemName)\n",
    "    if os.path.exists(outputName): \n",
    "        print(itemName + \"!!\")\n",
    "        continue\n",
    "    print(itemName,end=': f')\n",
    "    featLayer = FeatureLayer(item['url'])\n",
    "    geomType = featLayer.properties['geometryType']\n",
    "    print(' s',end='')\n",
    "    if geomType == 'esriGeometryPoint':\n",
    "        sdf = featLayer.query().sdf\n",
    "    else:\n",
    "        sdf = pd.DataFrame.spatial.from_layer(featLayer)\n",
    "    print(' c',end='')\n",
    "    sdf.spatial.to_featureclass(outputName)\n",
    "    print('!')"
   ]
  }
 ],
 "metadata": {
  "kernelspec": {
   "display_name": "Python 3",
   "language": "python",
   "name": "python3"
  },
  "language_info": {
   "codemirror_mode": {
    "name": "ipython",
    "version": 3
   },
   "file_extension": ".py",
   "mimetype": "text/x-python",
   "name": "python",
   "nbconvert_exporter": "python",
   "pygments_lexer": "ipython3",
   "version": "3.6.8"
  }
 },
 "nbformat": 4,
 "nbformat_minor": 2
}
