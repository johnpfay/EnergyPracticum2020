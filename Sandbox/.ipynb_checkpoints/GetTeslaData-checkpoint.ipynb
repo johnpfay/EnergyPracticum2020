{
 "cells": [
  {
   "cell_type": "code",
   "execution_count": 33,
   "metadata": {},
   "outputs": [],
   "source": [
    "import pandas as pd\n",
    "import requests\n",
    "from arcgis import GIS\n",
    "from arcgis.features import GeoAccessor\n",
    "gis = GIS()"
   ]
  },
  {
   "cell_type": "code",
   "execution_count": 2,
   "metadata": {},
   "outputs": [],
   "source": [
    "theURL = 'https://supercharge.info/data'"
   ]
  },
  {
   "cell_type": "code",
   "execution_count": 3,
   "metadata": {},
   "outputs": [
    {
     "data": {
      "text/plain": [
       "7"
      ]
     },
     "execution_count": 3,
     "metadata": {},
     "output_type": "execute_result"
    }
   ],
   "source": [
    "dfs = pd.read_html(theURL)\n",
    "len(dfs)"
   ]
  },
  {
   "cell_type": "code",
   "execution_count": 15,
   "metadata": {},
   "outputs": [
    {
     "data": {
      "text/html": [
       "<div>\n",
       "<style scoped>\n",
       "    .dataframe tbody tr th:only-of-type {\n",
       "        vertical-align: middle;\n",
       "    }\n",
       "\n",
       "    .dataframe tbody tr th {\n",
       "        vertical-align: top;\n",
       "    }\n",
       "\n",
       "    .dataframe thead th {\n",
       "        text-align: right;\n",
       "    }\n",
       "</style>\n",
       "<table border=\"1\" class=\"dataframe\">\n",
       "  <thead>\n",
       "    <tr style=\"text-align: right;\">\n",
       "      <th></th>\n",
       "      <th>Supercharger</th>\n",
       "      <th>Street Address</th>\n",
       "      <th>City</th>\n",
       "      <th>State</th>\n",
       "      <th>Zip</th>\n",
       "      <th>Country</th>\n",
       "      <th>Stalls</th>\n",
       "      <th>GPS</th>\n",
       "      <th>Elev(m)</th>\n",
       "      <th>Status</th>\n",
       "      <th>Open Date</th>\n",
       "      <th>Links</th>\n",
       "    </tr>\n",
       "  </thead>\n",
       "  <tbody>\n",
       "  </tbody>\n",
       "</table>\n",
       "</div>"
      ],
      "text/plain": [
       "Empty DataFrame\n",
       "Columns: [Supercharger, Street Address, City, State, Zip, Country, Stalls, GPS, Elev(m), Status, Open Date, Links]\n",
       "Index: []"
      ]
     },
     "execution_count": 15,
     "metadata": {},
     "output_type": "execute_result"
    }
   ],
   "source": [
    "dfs[2]"
   ]
  },
  {
   "cell_type": "code",
   "execution_count": 21,
   "metadata": {},
   "outputs": [
    {
     "data": {
      "text/html": [
       "<div>\n",
       "<style scoped>\n",
       "    .dataframe tbody tr th:only-of-type {\n",
       "        vertical-align: middle;\n",
       "    }\n",
       "\n",
       "    .dataframe tbody tr th {\n",
       "        vertical-align: top;\n",
       "    }\n",
       "\n",
       "    .dataframe thead th {\n",
       "        text-align: right;\n",
       "    }\n",
       "</style>\n",
       "<table border=\"1\" class=\"dataframe\">\n",
       "  <thead>\n",
       "    <tr style=\"text-align: right;\">\n",
       "      <th></th>\n",
       "      <th>Supercharger</th>\n",
       "      <th>Street Address</th>\n",
       "      <th>City</th>\n",
       "      <th>State</th>\n",
       "      <th>Zip</th>\n",
       "      <th>Country</th>\n",
       "      <th>Stalls</th>\n",
       "      <th>GPS</th>\n",
       "      <th>Elev(m)</th>\n",
       "      <th>Status</th>\n",
       "      <th>Open Date</th>\n",
       "      <th>Links</th>\n",
       "    </tr>\n",
       "  </thead>\n",
       "  <tbody>\n",
       "    <tr>\n",
       "      <td>0</td>\n",
       "      <td>Williams, CA</td>\n",
       "      <td>464 6th Street</td>\n",
       "      <td>Williams</td>\n",
       "      <td>CA</td>\n",
       "      <td>95987</td>\n",
       "      <td>USA</td>\n",
       "      <td>12</td>\n",
       "      <td>39.15608, -122.149408</td>\n",
       "      <td>25</td>\n",
       "      <td>OPEN</td>\n",
       "      <td>2019-12-19</td>\n",
       "      <td>gmap | forum | tesla</td>\n",
       "    </tr>\n",
       "    <tr>\n",
       "      <td>1</td>\n",
       "      <td>North Bend, WA</td>\n",
       "      <td>46600 SE North Bend Way</td>\n",
       "      <td>North Bend</td>\n",
       "      <td>WA</td>\n",
       "      <td>98045</td>\n",
       "      <td>USA</td>\n",
       "      <td>8</td>\n",
       "      <td>47.468107, -121.716454</td>\n",
       "      <td>209</td>\n",
       "      <td>OPEN</td>\n",
       "      <td>2019-12-19</td>\n",
       "      <td>gmap | forum | tesla</td>\n",
       "    </tr>\n",
       "    <tr>\n",
       "      <td>2</td>\n",
       "      <td>Guaynabo, PR</td>\n",
       "      <td>2–98 Calle Tabonuco</td>\n",
       "      <td>Guaynabo</td>\n",
       "      <td>PR</td>\n",
       "      <td>00968</td>\n",
       "      <td>USA</td>\n",
       "      <td>2</td>\n",
       "      <td>18.405993, -66.106131</td>\n",
       "      <td>15</td>\n",
       "      <td>OPEN</td>\n",
       "      <td>2019-12-18</td>\n",
       "      <td>gmap | forum</td>\n",
       "    </tr>\n",
       "    <tr>\n",
       "      <td>3</td>\n",
       "      <td>Burleson, TX</td>\n",
       "      <td>3313 S. Burleson Blvd</td>\n",
       "      <td>Burleson</td>\n",
       "      <td>TX</td>\n",
       "      <td>76009</td>\n",
       "      <td>USA</td>\n",
       "      <td>10</td>\n",
       "      <td>32.463609, -97.264284</td>\n",
       "      <td>257</td>\n",
       "      <td>OPEN</td>\n",
       "      <td>2019-12-15</td>\n",
       "      <td>gmap | forum</td>\n",
       "    </tr>\n",
       "    <tr>\n",
       "      <td>4</td>\n",
       "      <td>Boonton, NJ</td>\n",
       "      <td>550 Myrtle Avenue</td>\n",
       "      <td>Boonton</td>\n",
       "      <td>NJ</td>\n",
       "      <td>07005</td>\n",
       "      <td>USA</td>\n",
       "      <td>10</td>\n",
       "      <td>40.907627, -74.3976</td>\n",
       "      <td>118</td>\n",
       "      <td>OPEN</td>\n",
       "      <td>2019-12-14</td>\n",
       "      <td>gmap | forum | tesla</td>\n",
       "    </tr>\n",
       "  </tbody>\n",
       "</table>\n",
       "</div>"
      ],
      "text/plain": [
       "     Supercharger           Street Address        City State    Zip Country  \\\n",
       "0    Williams, CA           464 6th Street    Williams    CA  95987     USA   \n",
       "1  North Bend, WA  46600 SE North Bend Way  North Bend    WA  98045     USA   \n",
       "2    Guaynabo, PR      2–98 Calle Tabonuco    Guaynabo    PR  00968     USA   \n",
       "3    Burleson, TX    3313 S. Burleson Blvd    Burleson    TX  76009     USA   \n",
       "4     Boonton, NJ        550 Myrtle Avenue     Boonton    NJ  07005     USA   \n",
       "\n",
       "   Stalls                     GPS  Elev(m) Status   Open Date  \\\n",
       "0      12   39.15608, -122.149408       25   OPEN  2019-12-19   \n",
       "1       8  47.468107, -121.716454      209   OPEN  2019-12-19   \n",
       "2       2   18.405993, -66.106131       15   OPEN  2019-12-18   \n",
       "3      10   32.463609, -97.264284      257   OPEN  2019-12-15   \n",
       "4      10     40.907627, -74.3976      118   OPEN  2019-12-14   \n",
       "\n",
       "                  Links  \n",
       "0  gmap | forum | tesla  \n",
       "1  gmap | forum | tesla  \n",
       "2          gmap | forum  \n",
       "3          gmap | forum  \n",
       "4  gmap | forum | tesla  "
      ]
     },
     "execution_count": 21,
     "metadata": {},
     "output_type": "execute_result"
    }
   ],
   "source": [
    "df = pd.read_csv('data.txt',sep='\\t')\n",
    "df.head()"
   ]
  },
  {
   "cell_type": "code",
   "execution_count": 47,
   "metadata": {},
   "outputs": [],
   "source": [
    "df['Lat'] = df['GPS'].apply(lambda x :float(x.split(',')[0]))\n",
    "df['Lng'] = df['GPS'].apply(lambda x :float(x.split(',')[1]))"
   ]
  },
  {
   "cell_type": "code",
   "execution_count": 50,
   "metadata": {},
   "outputs": [
    {
     "data": {
      "text/plain": [
       "<matplotlib.axes._subplots.AxesSubplot at 0x1d75c82ef60>"
      ]
     },
     "execution_count": 50,
     "metadata": {},
     "output_type": "execute_result"
    },
    {
     "data": {
      "image/png": "[encoded data removed]",
      "text/plain": [
       "<Figure size 432x288 with 1 Axes>"
      ]
     },
     "metadata": {
      "needs_background": "light"
     },
     "output_type": "display_data"
    }
   ],
   "source": [
    "dfNC = df.query('State == \"NC\"').copy()\n",
    "dfNC.plot(x=\"Lng\",y=\"Lat\",kind='scatter')"
   ]
  },
  {
   "cell_type": "code",
   "execution_count": 51,
   "metadata": {},
   "outputs": [],
   "source": [
    "sdf = GeoAccessor.from_xy(df,x_column=\"Lng\",y_column=\"Lat\")"
   ]
  },
  {
   "cell_type": "code",
   "execution_count": 55,
   "metadata": {},
   "outputs": [
    {
     "data": {
      "application/vnd.jupyter.widget-view+json": {
       "model_id": "e0df5e811e9e480ab10e57d27746be79",
       "version_major": 2,
       "version_minor": 0
      },
      "text/plain": [
       "MapView(layout=Layout(height='400px', width='100%'))"
      ]
     },
     "metadata": {},
     "output_type": "display_data"
    },
    {
     "data": {
      "text/html": [
       "<div class=\"map-static-img-preview-52237243-9b63-4dcb-8722-7e95ccc653fb\"><img src=\"\"></img></div>"
      ],
      "text/plain": [
       "<IPython.core.display.HTML object>"
      ]
     },
     "metadata": {},
     "output_type": "display_data"
    }
   ],
   "source": [
    "sdf[sdf['State']=='TN'].spatial.plot()"
   ]
  },
  {
   "cell_type": "code",
   "execution_count": null,
   "metadata": {},
   "outputs": [],
   "source": []
  }
 ],
 "metadata": {
  "kernelspec": {
   "display_name": "Python 3",
   "language": "python",
   "name": "python3"
  },
  "language_info": {
   "codemirror_mode": {
    "name": "ipython",
    "version": 3
   },
   "file_extension": ".py",
   "mimetype": "text/x-python",
   "name": "python",
   "nbconvert_exporter": "python",
   "pygments_lexer": "ipython3",
   "version": "3.6.8"
  }
 },
 "nbformat": 4,
 "nbformat_minor": 2
}
