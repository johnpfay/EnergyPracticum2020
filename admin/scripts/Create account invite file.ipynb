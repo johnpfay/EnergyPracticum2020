{
 "cells": [
  {
   "cell_type": "code",
   "execution_count": null,
   "metadata": {},
   "outputs": [],
   "source": [
    "import os, glob, getpass\n",
    "import pandas as pd"
   ]
  },
  {
   "cell_type": "code",
   "execution_count": null,
   "metadata": {},
   "outputs": [],
   "source": [
    "#Get roster file name\n",
    "xlFNs = glob.glob(r\"\\\\152.3.110.41\\env790_2020\\790_admin\\AccountSetup\\\\*.xlsx\")\n",
    "xlFN = xlFNs[-1]\n",
    "#Get dir name\n",
    "dirName = os.path.dirname(xlFN)"
   ]
  },
  {
   "cell_type": "code",
   "execution_count": null,
   "metadata": {},
   "outputs": [],
   "source": [
    "#Read excel data into dataframe\n",
    "df = pd.read_excel(io=xlFN,sheet_name='Roster',header=2)\n",
    "#Subset students\n",
    "df = df.loc[df['Role']=='Student']\n",
    "#Display\n",
    "df.head()"
   ]
  },
  {
   "cell_type": "code",
   "execution_count": null,
   "metadata": {},
   "outputs": [],
   "source": [
    "#Add Username as NetID (from User ID) + \"_790\"\n",
    "df['Username'] = df['User ID'].apply(lambda x: x.split(\"@\")[0]+'_790')\n",
    "df.head()"
   ]
  },
  {
   "cell_type": "code",
   "execution_count": null,
   "metadata": {},
   "outputs": [],
   "source": [
    "#Create AGOL invite CSV file\n",
    "colNames=['First Name','Last Name','Email','Username','Role','User Type']"
   ]
  },
  {
   "cell_type": "code",
   "execution_count": null,
   "metadata": {},
   "outputs": [],
   "source": [
    "#Create AGOL columns \n",
    "Names = df['Name'].str.split(\",\",expand=True)\n",
    "df['First Name'] = Names[1]\n",
    "df['Last Name'] = Names[0]\n",
    "df['Role'] = 'ENV790'\n",
    "df['User Type'] = 'GIS Professional Advanced'\n",
    "#Write to file\n",
    "df[colNames].to_csv(os.path.join(dirName,'AGOL_Invite.csv'),index=False)"
   ]
  },
  {
   "cell_type": "code",
   "execution_count": null,
   "metadata": {},
   "outputs": [],
   "source": []
  }
 ],
 "metadata": {
  "kernelspec": {
   "display_name": "Python 3",
   "language": "python",
   "name": "python3"
  },
  "language_info": {
   "codemirror_mode": {
    "name": "ipython",
    "version": 3
   },
   "file_extension": ".py",
   "mimetype": "text/x-python",
   "name": "python",
   "nbconvert_exporter": "python",
   "pygments_lexer": "ipython3",
   "version": "3.6.8"
  }
 },
 "nbformat": 4,
 "nbformat_minor": 2
}
